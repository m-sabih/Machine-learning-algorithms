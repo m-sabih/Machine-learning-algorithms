{
 "cells": [
  {
   "cell_type": "code",
   "execution_count": 336,
   "metadata": {},
   "outputs": [],
   "source": [
    "import numpy as np\n",
    "import matplotlib.pyplot as plt"
   ]
  },
  {
   "cell_type": "code",
   "execution_count": 337,
   "metadata": {},
   "outputs": [],
   "source": [
    "train_X = np.loadtxt(\"trainX.txt\")\n",
    "train_Y = np.loadtxt(\"trainY.txt\")\n",
    "test_X = np.loadtxt(\"testX.txt\")\n",
    "test_Y = np.loadtxt(\"testY.txt\")"
   ]
  },
  {
   "cell_type": "code",
   "execution_count": 338,
   "metadata": {},
   "outputs": [
    {
     "name": "stdout",
     "output_type": "stream",
     "text": [
      "(500, 256)\n",
      "(500,)\n",
      "(100, 256)\n",
      "(100,)\n"
     ]
    }
   ],
   "source": [
    "print(train_X.shape)\n",
    "print(train_Y.shape)\n",
    "print(test_X.shape)\n",
    "print(test_Y.shape)"
   ]
  },
  {
   "cell_type": "markdown",
   "metadata": {},
   "source": [
    "#### Display single image"
   ]
  },
  {
   "cell_type": "code",
   "execution_count": 339,
   "metadata": {},
   "outputs": [
    {
     "data": {
      "image/png": "[encoded data removed]",
      "text/plain": [
       "<Figure size 432x288 with 1 Axes>"
      ]
     },
     "metadata": {
      "needs_background": "light"
     },
     "output_type": "display_data"
    }
   ],
   "source": [
    "img = train_X[0]\n",
    "img = np.reshape(img,(16,16),order='F')\n",
    "plt.imshow(img,cmap='gray');"
   ]
  },
  {
   "cell_type": "markdown",
   "metadata": {},
   "source": [
    "### Training"
   ]
  },
  {
   "cell_type": "code",
   "execution_count": 340,
   "metadata": {},
   "outputs": [
    {
     "name": "stdout",
     "output_type": "stream",
     "text": [
      "[[  2. 250.]\n",
      " [  4. 250.]]\n"
     ]
    }
   ],
   "source": [
    "total_elements = np.array(np.unique(train_Y, return_counts=True)).T\n",
    "print(total_elements)"
   ]
  },
  {
   "cell_type": "code",
   "execution_count": 341,
   "metadata": {},
   "outputs": [
    {
     "name": "stdout",
     "output_type": "stream",
     "text": [
      "Training Examples of class 2:  250.0\n",
      "Training Examples of class 4:  250.0\n"
     ]
    }
   ],
   "source": [
    "elements_of_2 = total_elements[0,1]\n",
    "elements_of_4 = total_elements[1,1]\n",
    "print(\"Training Examples of class 2: \",elements_of_2)\n",
    "print(\"Training Examples of class 4: \",elements_of_4)"
   ]
  },
  {
   "cell_type": "code",
   "execution_count": 342,
   "metadata": {},
   "outputs": [],
   "source": [
    "prob_of_2 = elements_of_2/train_X.shape[0]\n",
    "prob_of_4 = elements_of_4/train_X.shape[0]"
   ]
  },
  {
   "cell_type": "code",
   "execution_count": 343,
   "metadata": {},
   "outputs": [],
   "source": [
    "class_2_train_x = train_X[:250]\n",
    "class_2_train_y = train_Y[:250]\n",
    "\n",
    "class_4_train_x = train_X[250:]\n",
    "class_4_train_y = train_Y[250:]"
   ]
  },
  {
   "cell_type": "code",
   "execution_count": 344,
   "metadata": {},
   "outputs": [
    {
     "name": "stdout",
     "output_type": "stream",
     "text": [
      "(250, 256)\n",
      "(250,)\n",
      "(250, 256)\n",
      "(250,)\n"
     ]
    }
   ],
   "source": [
    "print(class_2_train_x.shape)\n",
    "print(class_2_train_y.shape)\n",
    "\n",
    "print(class_4_train_x.shape)\n",
    "print(class_4_train_y.shape)"
   ]
  },
  {
   "cell_type": "code",
   "execution_count": 345,
   "metadata": {},
   "outputs": [],
   "source": [
    "# Class 2\n",
    "\n",
    "# prob of 1 given class 2\n",
    "class2_one_prob = class_2_train_x.sum(axis=0)/class_2_train_y.shape[0]\n",
    "# With Smothing\n",
    "#class2_one_prob = (class_2_train_x.sum(axis=0)+1)/(class_2_train_y.shape[0]+2)\n",
    "# prob of 0 given class 2\n",
    "class2_zero_prob = 1 - class2_one_prob"
   ]
  },
  {
   "cell_type": "code",
   "execution_count": 346,
   "metadata": {},
   "outputs": [],
   "source": [
    "# Class 4\n",
    "\n",
    "# prob of 1 given class 4\n",
    "class4_one_prob = class_4_train_x.sum(axis=0)/class_4_train_y.shape[0]\n",
    "#With Smoothing\n",
    "#class4_one_prob = (class_4_train_x.sum(axis=0)+1)/(class_4_train_y.shape[0]+2)\n",
    "# prob of 0 given class 4\n",
    "class4_zero_prob = 1 - class4_one_prob"
   ]
  },
  {
   "cell_type": "code",
   "execution_count": 347,
   "metadata": {},
   "outputs": [
    {
     "name": "stdout",
     "output_type": "stream",
     "text": [
      "(100, 256)\n",
      "(100, 256)\n"
     ]
    }
   ],
   "source": [
    "print(test_X.shape)\n",
    "print(output_class4.shape)"
   ]
  },
  {
   "cell_type": "code",
   "execution_count": 348,
   "metadata": {},
   "outputs": [],
   "source": [
    "output_class2 = np.zeros([train_X.shape[0],train_X.shape[1]])\n",
    "output_class4 = np.zeros([train_X.shape[0],train_X.shape[1]])\n",
    "\n",
    "for i,input_x in enumerate(train_X):\n",
    "    for j in range(input_x.shape[0]):\n",
    "        if input_x[j]==0:\n",
    "            output_class2[i,j]=class2_zero_prob[j]\n",
    "            output_class4[i,j]=class4_zero_prob[j]\n",
    "        else:\n",
    "            output_class2[i,j]=class2_one_prob[j]\n",
    "            output_class4[i,j]=class4_one_prob[j]"
   ]
  },
  {
   "cell_type": "code",
   "execution_count": 349,
   "metadata": {},
   "outputs": [],
   "source": [
    "total_correct=0\n",
    "class_2_correct=0\n",
    "class_4_correct=0\n",
    "output = []\n",
    "for i,input_x in enumerate(train_X):\n",
    "    output_2 = np.prod(output_class2[i])*prob_of_2\n",
    "    output_4 = np.prod(output_class4[i])*prob_of_4\n",
    "    \n",
    "    res = [output_2,output_4]\n",
    "    pred = np.argmax(res)\n",
    "    output.append(np.argmax(res))\n",
    "    \n",
    "    if pred == 0:\n",
    "        if int(train_Y[i]) == 2:\n",
    "            total_correct+=1\n",
    "            class_2_correct+=1\n",
    "    else:\n",
    "        if int(train_Y[i]) == 4:\n",
    "            total_correct+=1\n",
    "            class_4_correct+=1"
   ]
  },
  {
   "cell_type": "code",
   "execution_count": 350,
   "metadata": {},
   "outputs": [
    {
     "name": "stdout",
     "output_type": "stream",
     "text": [
      "Training Accuracy:  99.4\n",
      "Class 2 Training Accuracy:  99.6\n",
      "Class 4 Training Accuracy:  99.2\n"
     ]
    }
   ],
   "source": [
    "print(\"Training Accuracy: \",total_correct/train_X.shape[0]*100)\n",
    "print(\"Class 2 Training Accuracy: \",class_2_correct/elements_of_2*100)\n",
    "print(\"Class 4 Training Accuracy: \",class_4_correct/elements_of_4*100)"
   ]
  },
  {
   "cell_type": "markdown",
   "metadata": {},
   "source": [
    "### Testing"
   ]
  },
  {
   "cell_type": "code",
   "execution_count": 351,
   "metadata": {},
   "outputs": [],
   "source": [
    "output_class2 = np.zeros([test_X.shape[0],test_X.shape[1]])\n",
    "output_class4 = np.zeros([test_X.shape[0],test_X.shape[1]])\n",
    "\n",
    "for i,input_x in enumerate(test_X):\n",
    "    for j in range(input_x.shape[0]):\n",
    "        if input_x[j]==0:\n",
    "            output_class2[i,j]=class2_zero_prob[j]\n",
    "            output_class4[i,j]=class4_zero_prob[j]\n",
    "        else:\n",
    "            output_class2[i,j]=class2_one_prob[j]\n",
    "            output_class4[i,j]=class4_one_prob[j]"
   ]
  },
  {
   "cell_type": "code",
   "execution_count": 352,
   "metadata": {},
   "outputs": [],
   "source": [
    "total_correct=0\n",
    "class_2_correct=0\n",
    "class_4_correct=0\n",
    "output = []\n",
    "for i,input_x in enumerate(test_X):\n",
    "    output_2 = np.prod(output_class2[i])*prob_of_2\n",
    "    output_4 = np.prod(output_class4[i])*prob_of_4\n",
    "    \n",
    "    res = [output_2,output_4]\n",
    "    pred = np.argmax(res)\n",
    "    output.append(np.argmax(res))\n",
    "    \n",
    "    if pred == 0:\n",
    "        if int(test_Y[i]) == 2:\n",
    "            total_correct+=1\n",
    "            class_2_correct+=1\n",
    "    else:\n",
    "        if int(test_Y[i]) == 4:\n",
    "            total_correct+=1\n",
    "            class_4_correct+=1"
   ]
  },
  {
   "cell_type": "code",
   "execution_count": 353,
   "metadata": {},
   "outputs": [
    {
     "name": "stdout",
     "output_type": "stream",
     "text": [
      "Testing Examples of class 2:  50.0\n",
      "Testing Examples of class 4:  50.0\n"
     ]
    }
   ],
   "source": [
    "total_elements = np.array(np.unique(test_Y, return_counts=True)).T\n",
    "elements_of_2 = total_elements[0,1]\n",
    "elements_of_4 = total_elements[1,1]\n",
    "print(\"Testing Examples of class 2: \",elements_of_2)\n",
    "print(\"Testing Examples of class 4: \",elements_of_4)"
   ]
  },
  {
   "cell_type": "code",
   "execution_count": 354,
   "metadata": {},
   "outputs": [
    {
     "name": "stdout",
     "output_type": "stream",
     "text": [
      "Test Accuracy:  100.0\n",
      "Class 2 Test Accuracy:  100.0\n",
      "Class 4 Test Accuracy:  100.0\n"
     ]
    }
   ],
   "source": [
    "print(\"Test Accuracy: \",total_correct/test_X.shape[0]*100)\n",
    "print(\"Class 2 Test Accuracy: \",class_2_correct/elements_of_2*100)\n",
    "print(\"Class 4 Test Accuracy: \",class_4_correct/elements_of_4*100)"
   ]
  },
  {
   "cell_type": "markdown",
   "metadata": {},
   "source": [
    "### Displaying random examples with predictions"
   ]
  },
  {
   "cell_type": "code",
   "execution_count": 355,
   "metadata": {},
   "outputs": [
    {
     "data": {
      "image/png": "[encoded data removed]",
      "text/plain": [
       "<Figure size 1800x2880 with 8 Axes>"
      ]
     },
     "metadata": {},
     "output_type": "display_data"
    }
   ],
   "source": [
    "import warnings\n",
    "import matplotlib.cbook\n",
    "warnings.filterwarnings(\"ignore\",category=matplotlib.cbook.mplDeprecation)\n",
    "\n",
    "classes=['Class 1','Class 2']\n",
    "examples = [1,54,32,12,23,50,12,76]\n",
    "class_correct = list(0. for i in range(2))\n",
    "class_total = list(0. for i in range(2))\n",
    "\n",
    "fig = plt.figure(figsize=(25, 40))\n",
    "idx=0\n",
    "for i in examples:\n",
    "    \n",
    "    output_2 = np.prod(output_class2[i])*prob_of_2\n",
    "    output_4 = np.prod(output_class4[i])*prob_of_4\n",
    "    \n",
    "    res = [output_2,output_4]\n",
    "    pred = np.argmax(res)\n",
    "    \n",
    "    pred_class = test_Y[i]\n",
    "    if pred_class == 2:\n",
    "        label=0\n",
    "    else:\n",
    "        label=1\n",
    "    \n",
    "    img = test_X[i]\n",
    "    img = np.reshape(img,(16,16),order='F')     \n",
    "    ax = fig.add_subplot(5, 8/2, idx+1, xticks=[], yticks=[])\n",
    "    idx+=1\n",
    "    plt.imshow(img,cmap='gray')\n",
    "    ax.set_title(classes[label])\n",
    "    ax.set_title(\"{} ({})\".format(classes[pred], classes[label]),\n",
    "                 color=(\"green\" if pred==label else \"red\"))"
   ]
  },
  {
   "cell_type": "code",
   "execution_count": null,
   "metadata": {},
   "outputs": [],
   "source": []
  }
 ],
 "metadata": {
  "kernelspec": {
   "display_name": "Python 3",
   "language": "python",
   "name": "python3"
  },
  "language_info": {
   "codemirror_mode": {
    "name": "ipython",
    "version": 3
   },
   "file_extension": ".py",
   "mimetype": "text/x-python",
   "name": "python",
   "nbconvert_exporter": "python",
   "pygments_lexer": "ipython3",
   "version": "3.8.3"
  }
 },
 "nbformat": 4,
 "nbformat_minor": 4
}
